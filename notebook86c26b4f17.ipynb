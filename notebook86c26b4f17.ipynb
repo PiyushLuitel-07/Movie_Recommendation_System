{
 "cells": [
  {
   "cell_type": "code",
   "execution_count": null,
   "metadata": {
    "_cell_guid": "b1076dfc-b9ad-4769-8c92-a6c4dae69d19",
    "_uuid": "8f2839f25d086af736a60e9eeb907d3b93b6e0e5",
    "execution": {
     "iopub.execute_input": "2021-06-21T12:32:55.394360Z",
     "iopub.status.busy": "2021-06-21T12:32:55.393741Z",
     "iopub.status.idle": "2021-06-21T12:32:55.415999Z",
     "shell.execute_reply": "2021-06-21T12:32:55.414664Z",
     "shell.execute_reply.started": "2021-06-21T12:32:55.394257Z"
    }
   },
   "outputs": [],
   "source": [
    "# This Python 3 environment comes with many helpful analytics libraries installed\n",
    "# It is defined by the kaggle/python Docker image: https://github.com/kaggle/docker-python\n",
    "# For example, here's several helpful packages to load\n",
    "\n",
    "import numpy as np # linear algebra\n",
    "import pandas as pd # data processing, CSV file I/O (e.g. pd.read_csv)\n",
    "\n",
    "# Input data files are available in the read-only \"../input/\" directory\n",
    "# For example, running this (by clicking run or pressing Shift+Enter) will list all files under the input directory\n",
    "\n",
    "# import os\n",
    "# for dirname, _, filenames in os.walk('/kaggle/input'):\n",
    "#     for filename in filenames:\n",
    "#         print(os.path.join(dirname, filename))\n",
    "\n",
    "# You can write up to 20GB to the current directory (/kaggle/working/) that gets preserved as output when you create a version using \"Save & Run All\" \n",
    "# You can also write temporary files to /kaggle/temp/, but they won't be saved outside of the current session"
   ]
  },
  {
   "cell_type": "code",
   "execution_count": null,
   "metadata": {
    "execution": {
     "iopub.execute_input": "2021-06-21T12:36:31.348105Z",
     "iopub.status.busy": "2021-06-21T12:36:31.347717Z",
     "iopub.status.idle": "2021-06-21T12:36:32.003856Z",
     "shell.execute_reply": "2021-06-21T12:36:32.002744Z",
     "shell.execute_reply.started": "2021-06-21T12:36:31.348073Z"
    }
   },
   "outputs": [],
   "source": [
    "movies = pd.read_csv('tmdb_5000_movies.csv')\n",
    "credits = pd.read_csv('tmdb_5000_credits.csv') "
   ]
  },
  {
   "cell_type": "code",
   "execution_count": null,
   "metadata": {
    "execution": {
     "iopub.execute_input": "2021-06-21T12:36:33.757778Z",
     "iopub.status.busy": "2021-06-21T12:36:33.757346Z",
     "iopub.status.idle": "2021-06-21T12:36:33.781729Z",
     "shell.execute_reply": "2021-06-21T12:36:33.780738Z",
     "shell.execute_reply.started": "2021-06-21T12:36:33.757743Z"
    }
   },
   "outputs": [],
   "source": [
    "movies.head(1)"
   ]
  },
  {
   "cell_type": "code",
   "execution_count": null,
   "metadata": {
    "scrolled": true
   },
   "outputs": [],
   "source": [
    "movies[\"genres\"][0:2]"
   ]
  },
  {
   "cell_type": "code",
   "execution_count": null,
   "metadata": {},
   "outputs": [],
   "source": [
    "movies[\"keywords\"][0]"
   ]
  },
  {
   "cell_type": "code",
   "execution_count": null,
   "metadata": {},
   "outputs": [],
   "source": [
    "movies[\"overview\"][0]"
   ]
  },
  {
   "cell_type": "code",
   "execution_count": null,
   "metadata": {},
   "outputs": [],
   "source": [
    "movies[\"production_companies\"][0]"
   ]
  },
  {
   "cell_type": "code",
   "execution_count": null,
   "metadata": {},
   "outputs": [],
   "source": [
    "movies[\"tagline\"][0]"
   ]
  },
  {
   "cell_type": "code",
   "execution_count": null,
   "metadata": {
    "execution": {
     "iopub.execute_input": "2021-06-21T12:33:06.308311Z",
     "iopub.status.busy": "2021-06-21T12:33:06.307921Z",
     "iopub.status.idle": "2021-06-21T12:33:06.316052Z",
     "shell.execute_reply": "2021-06-21T12:33:06.314903Z",
     "shell.execute_reply.started": "2021-06-21T12:33:06.308279Z"
    }
   },
   "outputs": [],
   "source": [
    "movies.shape"
   ]
  },
  {
   "cell_type": "code",
   "execution_count": null,
   "metadata": {},
   "outputs": [],
   "source": [
    "credits.shape"
   ]
  },
  {
   "cell_type": "code",
   "execution_count": null,
   "metadata": {
    "execution": {
     "iopub.execute_input": "2021-06-21T12:33:08.787791Z",
     "iopub.status.busy": "2021-06-21T12:33:08.787389Z",
     "iopub.status.idle": "2021-06-21T12:33:08.800864Z",
     "shell.execute_reply": "2021-06-21T12:33:08.799834Z",
     "shell.execute_reply.started": "2021-06-21T12:33:08.787758Z"
    }
   },
   "outputs": [],
   "source": [
    "credits.head()"
   ]
  },
  {
   "cell_type": "code",
   "execution_count": null,
   "metadata": {},
   "outputs": [],
   "source": [
    "credits[\"crew\"][0]"
   ]
  },
  {
   "cell_type": "code",
   "execution_count": null,
   "metadata": {
    "scrolled": true
   },
   "outputs": [],
   "source": [
    "credits.cast[0]"
   ]
  },
  {
   "cell_type": "code",
   "execution_count": null,
   "metadata": {
    "execution": {
     "iopub.execute_input": "2021-06-21T12:36:38.687005Z",
     "iopub.status.busy": "2021-06-21T12:36:38.686521Z",
     "iopub.status.idle": "2021-06-21T12:36:38.713343Z",
     "shell.execute_reply": "2021-06-21T12:36:38.711939Z",
     "shell.execute_reply.started": "2021-06-21T12:36:38.686963Z"
    }
   },
   "outputs": [],
   "source": [
    "movies = movies.merge(credits,on='title')"
   ]
  },
  {
   "cell_type": "code",
   "execution_count": null,
   "metadata": {
    "execution": {
     "iopub.execute_input": "2021-06-19T12:48:23.470754Z",
     "iopub.status.busy": "2021-06-19T12:48:23.470187Z",
     "iopub.status.idle": "2021-06-19T12:48:23.5041Z",
     "shell.execute_reply": "2021-06-19T12:48:23.503327Z",
     "shell.execute_reply.started": "2021-06-19T12:48:23.470724Z"
    }
   },
   "outputs": [],
   "source": [
    "movies.head(1)\n",
    "# budget\n",
    "# homepage\n",
    "# id\n",
    "# original_language\n",
    "# original_title\n",
    "# popularity\n",
    "# production_comapny\n",
    "# production_countries\n",
    "# release-date(not sure)"
   ]
  },
  {
   "cell_type": "code",
   "execution_count": null,
   "metadata": {
    "execution": {
     "iopub.execute_input": "2021-06-21T12:36:41.393733Z",
     "iopub.status.busy": "2021-06-21T12:36:41.393326Z",
     "iopub.status.idle": "2021-06-21T12:36:41.406883Z",
     "shell.execute_reply": "2021-06-21T12:36:41.405822Z",
     "shell.execute_reply.started": "2021-06-21T12:36:41.393699Z"
    }
   },
   "outputs": [],
   "source": [
    "movies = movies[['id','original_title','overview','genres','keywords','cast','crew']]"
   ]
  },
  {
   "cell_type": "code",
   "execution_count": null,
   "metadata": {
    "execution": {
     "iopub.execute_input": "2021-06-21T12:33:39.517061Z",
     "iopub.status.busy": "2021-06-21T12:33:39.516481Z",
     "iopub.status.idle": "2021-06-21T12:33:39.532499Z",
     "shell.execute_reply": "2021-06-21T12:33:39.531584Z",
     "shell.execute_reply.started": "2021-06-21T12:33:39.517012Z"
    }
   },
   "outputs": [],
   "source": [
    "movies.head(1)"
   ]
  },
  {
   "cell_type": "code",
   "execution_count": null,
   "metadata": {
    "execution": {
     "iopub.execute_input": "2021-06-21T12:34:19.382856Z",
     "iopub.status.busy": "2021-06-21T12:34:19.382331Z",
     "iopub.status.idle": "2021-06-21T12:34:19.387416Z",
     "shell.execute_reply": "2021-06-21T12:34:19.386451Z",
     "shell.execute_reply.started": "2021-06-21T12:34:19.382822Z"
    }
   },
   "outputs": [],
   "source": [
    "import ast"
   ]
  },
  {
   "cell_type": "code",
   "execution_count": null,
   "metadata": {
    "execution": {
     "iopub.execute_input": "2021-06-21T12:36:47.540453Z",
     "iopub.status.busy": "2021-06-21T12:36:47.539904Z",
     "iopub.status.idle": "2021-06-21T12:36:47.545014Z",
     "shell.execute_reply": "2021-06-21T12:36:47.544243Z",
     "shell.execute_reply.started": "2021-06-21T12:36:47.540418Z"
    }
   },
   "outputs": [],
   "source": [
    "def convert_(text):\n",
    "    L = []\n",
    "    for i in ast.literal_eval(text):\n",
    "        L.append(i['name']) \n",
    "    return L "
   ]
  },
  {
   "cell_type": "code",
   "execution_count": null,
   "metadata": {},
   "outputs": [],
   "source": [
    "movies.isnull().sum()"
   ]
  },
  {
   "cell_type": "code",
   "execution_count": null,
   "metadata": {
    "execution": {
     "iopub.execute_input": "2021-06-21T12:36:50.059538Z",
     "iopub.status.busy": "2021-06-21T12:36:50.059006Z",
     "iopub.status.idle": "2021-06-21T12:36:50.073095Z",
     "shell.execute_reply": "2021-06-21T12:36:50.071577Z",
     "shell.execute_reply.started": "2021-06-21T12:36:50.059504Z"
    }
   },
   "outputs": [],
   "source": [
    "movies.dropna(inplace=True)"
   ]
  },
  {
   "cell_type": "code",
   "execution_count": null,
   "metadata": {},
   "outputs": [],
   "source": [
    "movies.isnull().sum()"
   ]
  },
  {
   "cell_type": "code",
   "execution_count": null,
   "metadata": {},
   "outputs": [],
   "source": [
    "movies[\"genres\"].dtypes"
   ]
  },
  {
   "cell_type": "code",
   "execution_count": null,
   "metadata": {},
   "outputs": [],
   "source": [
    "movies[\"genres\"][0]"
   ]
  },
  {
   "cell_type": "code",
   "execution_count": null,
   "metadata": {
    "execution": {
     "iopub.execute_input": "2021-06-21T12:36:52.344121Z",
     "iopub.status.busy": "2021-06-21T12:36:52.343645Z",
     "iopub.status.idle": "2021-06-21T12:36:52.523910Z",
     "shell.execute_reply": "2021-06-21T12:36:52.522805Z",
     "shell.execute_reply.started": "2021-06-21T12:36:52.344082Z"
    }
   },
   "outputs": [],
   "source": [
    "# movies['genres'] = movies['genres'].apply(convert_)\n",
    "movies.head(1)"
   ]
  },
  {
   "cell_type": "code",
   "execution_count": null,
   "metadata": {},
   "outputs": [],
   "source": [
    "movies[\"keywords\"][0]"
   ]
  },
  {
   "cell_type": "code",
   "execution_count": null,
   "metadata": {
    "execution": {
     "iopub.execute_input": "2021-06-21T12:36:55.304439Z",
     "iopub.status.busy": "2021-06-21T12:36:55.304070Z",
     "iopub.status.idle": "2021-06-21T12:36:55.738525Z",
     "shell.execute_reply": "2021-06-21T12:36:55.737123Z",
     "shell.execute_reply.started": "2021-06-21T12:36:55.304408Z"
    }
   },
   "outputs": [],
   "source": [
    "movies['keywords'] = movies['keywords'].apply(convert_)\n",
    "movies.head(1)"
   ]
  },
  {
   "cell_type": "code",
   "execution_count": null,
   "metadata": {
    "execution": {
     "iopub.execute_input": "2021-06-19T13:07:21.572473Z",
     "iopub.status.busy": "2021-06-19T13:07:21.572154Z",
     "iopub.status.idle": "2021-06-19T13:07:21.578686Z",
     "shell.execute_reply": "2021-06-19T13:07:21.577661Z",
     "shell.execute_reply.started": "2021-06-19T13:07:21.572446Z"
    }
   },
   "outputs": [],
   "source": [
    "import ast\n",
    "ast.literal_eval('[{\"id\": 28, \"name\": \"Action\"}, {\"id\": 12, \"name\": \"Adventure\"}, {\"id\": 14, \"name\": \"Fantasy\"}, {\"id\": 878, \"name\": \"Science Fiction\"}]')"
   ]
  },
  {
   "cell_type": "code",
   "execution_count": null,
   "metadata": {},
   "outputs": [],
   "source": [
    "movies[\"cast\"][0]"
   ]
  },
  {
   "cell_type": "code",
   "execution_count": null,
   "metadata": {
    "execution": {
     "iopub.execute_input": "2021-06-21T12:36:59.511226Z",
     "iopub.status.busy": "2021-06-21T12:36:59.510859Z",
     "iopub.status.idle": "2021-06-21T12:36:59.517043Z",
     "shell.execute_reply": "2021-06-21T12:36:59.515878Z",
     "shell.execute_reply.started": "2021-06-21T12:36:59.511192Z"
    }
   },
   "outputs": [],
   "source": [
    "def convert3(text):\n",
    "    L = []\n",
    "    counter = 0\n",
    "    for i in ast.literal_eval(text):\n",
    "        if counter < 3:\n",
    "            L.append(i['name'])\n",
    "        counter+=1\n",
    "    return L "
   ]
  },
  {
   "cell_type": "code",
   "execution_count": null,
   "metadata": {
    "execution": {
     "iopub.execute_input": "2021-06-21T12:37:00.829409Z",
     "iopub.status.busy": "2021-06-21T12:37:00.828661Z",
     "iopub.status.idle": "2021-06-21T12:37:04.117090Z",
     "shell.execute_reply": "2021-06-21T12:37:04.115822Z",
     "shell.execute_reply.started": "2021-06-21T12:37:00.829355Z"
    }
   },
   "outputs": [],
   "source": [
    "movies['cast'] = movies['cast'].apply(convert3)\n",
    "movies.head(1)"
   ]
  },
  {
   "cell_type": "code",
   "execution_count": null,
   "metadata": {},
   "outputs": [],
   "source": [
    "movies[\"cast\"][0:4]"
   ]
  },
  {
   "cell_type": "code",
   "execution_count": null,
   "metadata": {
    "execution": {
     "iopub.execute_input": "2021-06-21T12:37:07.352886Z",
     "iopub.status.busy": "2021-06-21T12:37:07.352464Z",
     "iopub.status.idle": "2021-06-21T12:37:07.367808Z",
     "shell.execute_reply": "2021-06-21T12:37:07.366250Z",
     "shell.execute_reply.started": "2021-06-21T12:37:07.352854Z"
    }
   },
   "outputs": [],
   "source": [
    "movies['cast'].apply(lambda x:x[0:3])"
   ]
  },
  {
   "cell_type": "code",
   "execution_count": null,
   "metadata": {},
   "outputs": [],
   "source": [
    "movies[\"cast\"][0]"
   ]
  },
  {
   "cell_type": "code",
   "execution_count": null,
   "metadata": {
    "execution": {
     "iopub.execute_input": "2021-06-21T12:37:09.763317Z",
     "iopub.status.busy": "2021-06-21T12:37:09.762909Z",
     "iopub.status.idle": "2021-06-21T12:37:09.770917Z",
     "shell.execute_reply": "2021-06-21T12:37:09.770002Z",
     "shell.execute_reply.started": "2021-06-21T12:37:09.763278Z"
    }
   },
   "outputs": [],
   "source": [
    "def fetch_director(text):\n",
    "    L = []\n",
    "    for i in ast.literal_eval(text):\n",
    "        if i['job'] == 'Director':\n",
    "            L.append(i['name'])\n",
    "    return L "
   ]
  },
  {
   "cell_type": "code",
   "execution_count": null,
   "metadata": {
    "execution": {
     "iopub.execute_input": "2021-06-21T12:37:12.190468Z",
     "iopub.status.busy": "2021-06-21T12:37:12.189921Z",
     "iopub.status.idle": "2021-06-21T12:37:15.825662Z",
     "shell.execute_reply": "2021-06-21T12:37:15.824562Z",
     "shell.execute_reply.started": "2021-06-21T12:37:12.190407Z"
    }
   },
   "outputs": [],
   "source": [
    "movies['crew'] = movies['crew'].apply(fetch_director)"
   ]
  },
  {
   "cell_type": "code",
   "execution_count": null,
   "metadata": {},
   "outputs": [],
   "source": [
    "movies[\"crew\"][0:10]"
   ]
  },
  {
   "cell_type": "code",
   "execution_count": null,
   "metadata": {},
   "outputs": [],
   "source": [
    "movies['overview'] = movies['overview'].apply(lambda x:x.split())"
   ]
  },
  {
   "cell_type": "code",
   "execution_count": null,
   "metadata": {},
   "outputs": [],
   "source": [
    "movies.head(1)"
   ]
  },
  {
   "cell_type": "code",
   "execution_count": null,
   "metadata": {},
   "outputs": [],
   "source": [
    "movies[\"overview\"][0]"
   ]
  },
  {
   "cell_type": "code",
   "execution_count": null,
   "metadata": {},
   "outputs": [],
   "source": [
    "movies.head(1)"
   ]
  },
  {
   "cell_type": "code",
   "execution_count": null,
   "metadata": {
    "execution": {
     "iopub.execute_input": "2021-06-21T12:34:54.994779Z",
     "iopub.status.busy": "2021-06-21T12:34:54.994397Z",
     "iopub.status.idle": "2021-06-21T12:34:55.019276Z",
     "shell.execute_reply": "2021-06-21T12:34:55.017718Z",
     "shell.execute_reply.started": "2021-06-21T12:34:54.994738Z"
    }
   },
   "outputs": [],
   "source": [
    "\n",
    "movies.sample(5)"
   ]
  },
  {
   "cell_type": "code",
   "execution_count": null,
   "metadata": {
    "execution": {
     "iopub.execute_input": "2021-06-21T12:37:20.073320Z",
     "iopub.status.busy": "2021-06-21T12:37:20.072749Z",
     "iopub.status.idle": "2021-06-21T12:37:20.079118Z",
     "shell.execute_reply": "2021-06-21T12:37:20.077997Z",
     "shell.execute_reply.started": "2021-06-21T12:37:20.073270Z"
    }
   },
   "outputs": [],
   "source": [
    "def collapse(L):\n",
    "    L1 = []\n",
    "    for i in L:\n",
    "        L1.append(i.replace(\" \",\"\"))\n",
    "    return L1"
   ]
  },
  {
   "cell_type": "code",
   "execution_count": null,
   "metadata": {
    "execution": {
     "iopub.execute_input": "2021-06-21T12:37:21.283329Z",
     "iopub.status.busy": "2021-06-21T12:37:21.282768Z",
     "iopub.status.idle": "2021-06-21T12:37:21.486755Z",
     "shell.execute_reply": "2021-06-21T12:37:21.485878Z",
     "shell.execute_reply.started": "2021-06-21T12:37:21.283292Z"
    }
   },
   "outputs": [],
   "source": [
    "movies['cast'] = movies['cast'].apply(collapse)\n",
    "movies['crew'] = movies['crew'].apply(collapse)\n",
    "movies['genres'] = movies['genres'].apply(collapse)\n",
    "movies['keywords'] = movies['keywords'].apply(collapse)"
   ]
  },
  {
   "cell_type": "code",
   "execution_count": null,
   "metadata": {
    "execution": {
     "iopub.execute_input": "2021-06-21T12:35:23.278589Z",
     "iopub.status.busy": "2021-06-21T12:35:23.278025Z",
     "iopub.status.idle": "2021-06-21T12:35:23.311346Z",
     "shell.execute_reply": "2021-06-21T12:35:23.309971Z",
     "shell.execute_reply.started": "2021-06-21T12:35:23.278539Z"
    }
   },
   "outputs": [],
   "source": [
    "movies.head(1)"
   ]
  },
  {
   "cell_type": "code",
   "execution_count": null,
   "metadata": {
    "execution": {
     "iopub.execute_input": "2021-06-21T12:37:31.936583Z",
     "iopub.status.busy": "2021-06-21T12:37:31.936003Z",
     "iopub.status.idle": "2021-06-21T12:37:31.975155Z",
     "shell.execute_reply": "2021-06-21T12:37:31.973928Z",
     "shell.execute_reply.started": "2021-06-21T12:37:31.936546Z"
    }
   },
   "outputs": [],
   "source": [
    "# movies['overview'] = movies['overview'].apply(lambda x:x.split())"
   ]
  },
  {
   "cell_type": "code",
   "execution_count": null,
   "metadata": {
    "execution": {
     "iopub.execute_input": "2021-06-21T12:37:34.466349Z",
     "iopub.status.busy": "2021-06-21T12:37:34.465925Z",
     "iopub.status.idle": "2021-06-21T12:37:34.572742Z",
     "shell.execute_reply": "2021-06-21T12:37:34.571676Z",
     "shell.execute_reply.started": "2021-06-21T12:37:34.466313Z"
    }
   },
   "outputs": [],
   "source": [
    "movies['tags'] = movies['overview'] + movies['genres'] + movies['keywords'] + movies['cast'] + movies['crew']"
   ]
  },
  {
   "cell_type": "code",
   "execution_count": null,
   "metadata": {
    "execution": {
     "iopub.execute_input": "2021-06-21T12:37:40.975174Z",
     "iopub.status.busy": "2021-06-21T12:37:40.974644Z",
     "iopub.status.idle": "2021-06-21T12:37:40.981843Z",
     "shell.execute_reply": "2021-06-21T12:37:40.981059Z",
     "shell.execute_reply.started": "2021-06-21T12:37:40.975140Z"
    }
   },
   "outputs": [],
   "source": [
    "new = movies.drop(columns=['overview','genres','keywords','cast','crew'])\n",
    "new.head()"
   ]
  },
  {
   "cell_type": "code",
   "execution_count": null,
   "metadata": {
    "execution": {
     "iopub.execute_input": "2021-06-21T12:38:00.131473Z",
     "iopub.status.busy": "2021-06-21T12:38:00.130879Z",
     "iopub.status.idle": "2021-06-21T12:38:00.160438Z",
     "shell.execute_reply": "2021-06-21T12:38:00.159476Z",
     "shell.execute_reply.started": "2021-06-21T12:38:00.131439Z"
    }
   },
   "outputs": [],
   "source": [
    "# new['tags'] = new['tags'].apply(lambda x: \" \".join(x))\n",
    "new.head()"
   ]
  },
  {
   "cell_type": "code",
   "execution_count": null,
   "metadata": {},
   "outputs": [],
   "source": [
    "new[\"tags\"][0]"
   ]
  },
  {
   "cell_type": "code",
   "execution_count": null,
   "metadata": {},
   "outputs": [],
   "source": [
    "new[\"tags\"]=new[\"tags\"].apply(lambda x:x.lower())"
   ]
  },
  {
   "cell_type": "code",
   "execution_count": null,
   "metadata": {},
   "outputs": [],
   "source": [
    "new[\"tags\"][0]"
   ]
  },
  {
   "cell_type": "code",
   "execution_count": 66,
   "metadata": {},
   "outputs": [],
   "source": [
    "import nltk\n",
    "from nltk.stem.porter import PorterStemmer\n",
    "ps=PorterStemmer()"
   ]
  },
  {
   "cell_type": "code",
   "execution_count": 67,
   "metadata": {},
   "outputs": [],
   "source": [
    "def stem(text):\n",
    "    y=[ ]\n",
    "    for i in text.split():\n",
    "        y.append(ps.stem(i))\n",
    "        \n",
    "    return \" \".join(y)"
   ]
  },
  {
   "cell_type": "code",
   "execution_count": 68,
   "metadata": {},
   "outputs": [],
   "source": [
    "new[\"tags\"]=new[\"tags\"].apply(stem)"
   ]
  },
  {
   "cell_type": "code",
   "execution_count": 69,
   "metadata": {},
   "outputs": [
    {
     "data": {
      "text/plain": [
       "'in the 22nd century, a parapleg marin is dispatch to the moon pandora on a uniqu mission, but becom torn between follow order and protect an alien civilization. action adventur fantasi sciencefict cultureclash futur spacewar spacecoloni societi spacetravel futurist romanc space alien tribe alienplanet cgi marin soldier battl loveaffair antiwar powerrel mindandsoul 3d samworthington zoesaldana sigourneyweav jamescameron'"
      ]
     },
     "execution_count": 69,
     "metadata": {},
     "output_type": "execute_result"
    }
   ],
   "source": [
    "new.tags[0]"
   ]
  },
  {
   "cell_type": "code",
   "execution_count": 70,
   "metadata": {
    "execution": {
     "iopub.execute_input": "2021-06-21T12:38:06.545110Z",
     "iopub.status.busy": "2021-06-21T12:38:06.544599Z",
     "iopub.status.idle": "2021-06-21T12:38:07.488307Z",
     "shell.execute_reply": "2021-06-21T12:38:07.487238Z",
     "shell.execute_reply.started": "2021-06-21T12:38:06.545079Z"
    }
   },
   "outputs": [],
   "source": [
    "from sklearn.feature_extraction.text import CountVectorizer\n",
    "cv = CountVectorizer(max_features=5000,stop_words='english')\n",
    "    "
   ]
  },
  {
   "cell_type": "code",
   "execution_count": 71,
   "metadata": {
    "execution": {
     "iopub.execute_input": "2021-06-21T12:38:10.164314Z",
     "iopub.status.busy": "2021-06-21T12:38:10.163889Z",
     "iopub.status.idle": "2021-06-21T12:38:10.821200Z",
     "shell.execute_reply": "2021-06-21T12:38:10.820175Z",
     "shell.execute_reply.started": "2021-06-21T12:38:10.164279Z"
    }
   },
   "outputs": [],
   "source": [
    "vector = cv.fit_transform(new['tags']).toarray()"
   ]
  },
  {
   "cell_type": "code",
   "execution_count": 72,
   "metadata": {
    "execution": {
     "iopub.execute_input": "2021-06-19T14:00:41.894747Z",
     "iopub.status.busy": "2021-06-19T14:00:41.894223Z",
     "iopub.status.idle": "2021-06-19T14:00:41.900786Z",
     "shell.execute_reply": "2021-06-19T14:00:41.899989Z",
     "shell.execute_reply.started": "2021-06-19T14:00:41.894699Z"
    }
   },
   "outputs": [
    {
     "data": {
      "text/plain": [
       "(4806, 5000)"
      ]
     },
     "execution_count": 72,
     "metadata": {},
     "output_type": "execute_result"
    }
   ],
   "source": [
    "vector.shape"
   ]
  },
  {
   "cell_type": "code",
   "execution_count": 73,
   "metadata": {},
   "outputs": [
    {
     "data": {
      "text/plain": [
       "array([[0, 0, 0, ..., 0, 0, 0],\n",
       "       [0, 0, 0, ..., 0, 0, 0],\n",
       "       [0, 0, 0, ..., 0, 0, 0],\n",
       "       [0, 0, 0, ..., 0, 0, 0],\n",
       "       [0, 0, 0, ..., 0, 0, 0]], dtype=int64)"
      ]
     },
     "execution_count": 73,
     "metadata": {},
     "output_type": "execute_result"
    }
   ],
   "source": [
    "vector[0:5]"
   ]
  },
  {
   "cell_type": "code",
   "execution_count": 74,
   "metadata": {},
   "outputs": [
    {
     "data": {
      "text/plain": [
       "array(['000', '007', '10', ..., 'zone', 'zoo', 'zooeydeschanel'],\n",
       "      dtype=object)"
      ]
     },
     "execution_count": 74,
     "metadata": {},
     "output_type": "execute_result"
    }
   ],
   "source": [
    "cv.get_feature_names_out()"
   ]
  },
  {
   "cell_type": "code",
   "execution_count": 75,
   "metadata": {},
   "outputs": [
    {
     "data": {
      "text/plain": [
       "5000"
      ]
     },
     "execution_count": 75,
     "metadata": {},
     "output_type": "execute_result"
    }
   ],
   "source": [
    "len(cv.get_feature_names_out())"
   ]
  },
  {
   "cell_type": "code",
   "execution_count": 76,
   "metadata": {
    "execution": {
     "iopub.execute_input": "2021-06-21T12:38:15.770001Z",
     "iopub.status.busy": "2021-06-21T12:38:15.769495Z",
     "iopub.status.idle": "2021-06-21T12:38:18.170463Z",
     "shell.execute_reply": "2021-06-21T12:38:18.169319Z",
     "shell.execute_reply.started": "2021-06-21T12:38:15.769960Z"
    }
   },
   "outputs": [],
   "source": [
    "from sklearn.metrics.pairwise import cosine_similarity\n",
    "similarity = cosine_similarity(vector)"
   ]
  },
  {
   "cell_type": "code",
   "execution_count": 77,
   "metadata": {
    "execution": {
     "iopub.execute_input": "2021-06-19T14:06:45.473087Z",
     "iopub.status.busy": "2021-06-19T14:06:45.472777Z",
     "iopub.status.idle": "2021-06-19T14:06:45.479647Z",
     "shell.execute_reply": "2021-06-19T14:06:45.478831Z",
     "shell.execute_reply.started": "2021-06-19T14:06:45.473061Z"
    }
   },
   "outputs": [
    {
     "data": {
      "text/plain": [
       "array([[1.        , 0.08346223, 0.0860309 , ..., 0.04499213, 0.        ,\n",
       "        0.        ],\n",
       "       [0.08346223, 1.        , 0.06063391, ..., 0.02378257, 0.        ,\n",
       "        0.02615329],\n",
       "       [0.0860309 , 0.06063391, 1.        , ..., 0.02451452, 0.        ,\n",
       "        0.        ],\n",
       "       ...,\n",
       "       [0.04499213, 0.02378257, 0.02451452, ..., 1.        , 0.03962144,\n",
       "        0.04229549],\n",
       "       [0.        , 0.        , 0.        , ..., 0.03962144, 1.        ,\n",
       "        0.08714204],\n",
       "       [0.        , 0.02615329, 0.        , ..., 0.04229549, 0.08714204,\n",
       "        1.        ]])"
      ]
     },
     "execution_count": 77,
     "metadata": {},
     "output_type": "execute_result"
    }
   ],
   "source": [
    "similarity"
   ]
  },
  {
   "cell_type": "code",
   "execution_count": 78,
   "metadata": {},
   "outputs": [
    {
     "data": {
      "text/plain": [
       "array([1.        , 0.08346223, 0.0860309 , ..., 0.04499213, 0.        ,\n",
       "       0.        ])"
      ]
     },
     "execution_count": 78,
     "metadata": {},
     "output_type": "execute_result"
    }
   ],
   "source": [
    "similarity[0]"
   ]
  },
  {
   "cell_type": "code",
   "execution_count": 83,
   "metadata": {},
   "outputs": [
    {
     "data": {
      "text/html": [
       "<div>\n",
       "<style scoped>\n",
       "    .dataframe tbody tr th:only-of-type {\n",
       "        vertical-align: middle;\n",
       "    }\n",
       "\n",
       "    .dataframe tbody tr th {\n",
       "        vertical-align: top;\n",
       "    }\n",
       "\n",
       "    .dataframe thead th {\n",
       "        text-align: right;\n",
       "    }\n",
       "</style>\n",
       "<table border=\"1\" class=\"dataframe\">\n",
       "  <thead>\n",
       "    <tr style=\"text-align: right;\">\n",
       "      <th></th>\n",
       "      <th>id</th>\n",
       "      <th>original_title</th>\n",
       "      <th>tags</th>\n",
       "    </tr>\n",
       "  </thead>\n",
       "  <tbody>\n",
       "    <tr>\n",
       "      <th>0</th>\n",
       "      <td>19995</td>\n",
       "      <td>Avatar</td>\n",
       "      <td>in the 22nd century, a parapleg marin is dispa...</td>\n",
       "    </tr>\n",
       "  </tbody>\n",
       "</table>\n",
       "</div>"
      ],
      "text/plain": [
       "      id original_title                                               tags\n",
       "0  19995         Avatar  in the 22nd century, a parapleg marin is dispa..."
      ]
     },
     "execution_count": 83,
     "metadata": {},
     "output_type": "execute_result"
    }
   ],
   "source": [
    "new.head(1)"
   ]
  },
  {
   "cell_type": "code",
   "execution_count": 86,
   "metadata": {
    "execution": {
     "iopub.execute_input": "2021-06-21T12:38:22.542900Z",
     "iopub.status.busy": "2021-06-21T12:38:22.542487Z",
     "iopub.status.idle": "2021-06-21T12:38:22.549786Z",
     "shell.execute_reply": "2021-06-21T12:38:22.548271Z",
     "shell.execute_reply.started": "2021-06-21T12:38:22.542867Z"
    }
   },
   "outputs": [],
   "source": [
    "def recommend(movie):\n",
    "    index = new[new['original_title'] == movie].index[0]\n",
    "    distances = sorted(list(enumerate(similarity[index])),reverse=True,key = lambda x: x[1])\n",
    "    for i in distances[1:6]:\n",
    "        print(new.iloc[i[0]].original_title)\n",
    "        \n",
    "    "
   ]
  },
  {
   "cell_type": "markdown",
   "metadata": {},
   "source": [
    "This code defines a Python function called recommend(movie) that is used for recommending movies based on their similarity to a given movie. Here's a step-by-step explanation of how the code works:\n",
    "\n",
    "index = new[new['original_title'] == movie].index[0]: This line is responsible for finding the index of the movie in the dataset new that matches the given movie title. It assumes that the dataset new is a DataFrame, likely from a library like Pandas, and that it has a column named 'original_title' that contains movie titles. It uses boolean indexing to find rows where the 'original_title' column matches the input movie, and then it retrieves the index of the first matching row (assuming there is at least one match).\n",
    "\n",
    "distances = sorted(list(enumerate(similarity[index])),reverse=True,key = lambda x: x[1]): This line calculates the similarity between the selected movie and all other movies in the dataset, and then sorts them in descending order based on their similarity scores. Here's a breakdown of what's happening:\n",
    "\n",
    "similarity is assumed to be a 2D list or array where each row represents a movie and each column represents a similarity score between the movie at the index and other movies in the dataset.\n",
    "enumerate(similarity[index]) pairs each similarity score with its corresponding movie index.\n",
    "sorted(..., reverse=True, key=lambda x: x[1]) sorts these pairs in reverse order (from highest similarity to lowest similarity) based on the second element of each pair (i.e., the similarity score).\n",
    "for i in distances[1:6]:: This loop iterates over the top 5 movies (excluding the first one, which is the movie itself since it will have a similarity score of 1) with the highest similarity scores.\n",
    "\n",
    "print(new.iloc[i[0]].original_title): For each movie in the top 5 similar movies, it retrieves the movie's title by using the index stored in i[0] and then prints the title to recommend the similar movies to the user.\n",
    "\n",
    "In summary, this code takes a movie title as input, finds its index in a dataset, computes the similarity of this movie with all other movies in the dataset, and recommends the top 5 movies with the highest similarity scores to the input movie."
   ]
  },
  {
   "cell_type": "code",
   "execution_count": 87,
   "metadata": {
    "execution": {
     "iopub.execute_input": "2021-06-21T12:38:24.914650Z",
     "iopub.status.busy": "2021-06-21T12:38:24.914258Z",
     "iopub.status.idle": "2021-06-21T12:38:24.930018Z",
     "shell.execute_reply": "2021-06-21T12:38:24.928876Z",
     "shell.execute_reply.started": "2021-06-21T12:38:24.914616Z"
    }
   },
   "outputs": [
    {
     "name": "stdout",
     "output_type": "stream",
     "text": [
      "Aliens vs Predator: Requiem\n",
      "Aliens\n",
      "Falcon Rising\n",
      "Independence Day\n",
      "Titan A.E.\n"
     ]
    }
   ],
   "source": [
    "recommend('Avatar')"
   ]
  },
  {
   "cell_type": "code",
   "execution_count": 90,
   "metadata": {},
   "outputs": [
    {
     "name": "stdout",
     "output_type": "stream",
     "text": [
      "Guardians of the Galaxy\n",
      "Silent Running\n",
      "Space Cowboys\n",
      "The Martian\n",
      "The Right Stuff\n"
     ]
    }
   ],
   "source": [
    "recommend('Interstellar')"
   ]
  },
  {
   "cell_type": "code",
   "execution_count": 95,
   "metadata": {
    "execution": {
     "iopub.execute_input": "2021-06-21T12:39:59.606924Z",
     "iopub.status.busy": "2021-06-21T12:39:59.606475Z",
     "iopub.status.idle": "2021-06-21T12:39:59.612177Z",
     "shell.execute_reply": "2021-06-21T12:39:59.610858Z",
     "shell.execute_reply.started": "2021-06-21T12:39:59.606890Z"
    }
   },
   "outputs": [],
   "source": [
    "import pickle"
   ]
  },
  {
   "cell_type": "code",
   "execution_count": 102,
   "metadata": {
    "execution": {
     "iopub.execute_input": "2021-06-21T12:40:53.373581Z",
     "iopub.status.busy": "2021-06-21T12:40:53.373186Z",
     "iopub.status.idle": "2021-06-21T12:40:53.784869Z",
     "shell.execute_reply": "2021-06-21T12:40:53.783635Z",
     "shell.execute_reply.started": "2021-06-21T12:40:53.373547Z"
    }
   },
   "outputs": [],
   "source": [
    "# pickle.dump(new.to_dict(),open('movie_dict.pkl','wb'))\n",
    "pickle.dump(similarity,open('similarity.pkl','wb'))"
   ]
  },
  {
   "cell_type": "code",
   "execution_count": 100,
   "metadata": {},
   "outputs": [
    {
     "data": {
      "text/html": [
       "<div>\n",
       "<style scoped>\n",
       "    .dataframe tbody tr th:only-of-type {\n",
       "        vertical-align: middle;\n",
       "    }\n",
       "\n",
       "    .dataframe tbody tr th {\n",
       "        vertical-align: top;\n",
       "    }\n",
       "\n",
       "    .dataframe thead th {\n",
       "        text-align: right;\n",
       "    }\n",
       "</style>\n",
       "<table border=\"1\" class=\"dataframe\">\n",
       "  <thead>\n",
       "    <tr style=\"text-align: right;\">\n",
       "      <th></th>\n",
       "      <th>id</th>\n",
       "      <th>original_title</th>\n",
       "      <th>tags</th>\n",
       "    </tr>\n",
       "  </thead>\n",
       "  <tbody>\n",
       "    <tr>\n",
       "      <th>0</th>\n",
       "      <td>19995</td>\n",
       "      <td>Avatar</td>\n",
       "      <td>in the 22nd century, a parapleg marin is dispa...</td>\n",
       "    </tr>\n",
       "  </tbody>\n",
       "</table>\n",
       "</div>"
      ],
      "text/plain": [
       "      id original_title                                               tags\n",
       "0  19995         Avatar  in the 22nd century, a parapleg marin is dispa..."
      ]
     },
     "execution_count": 100,
     "metadata": {},
     "output_type": "execute_result"
    }
   ],
   "source": [
    "new.head(1)"
   ]
  },
  {
   "cell_type": "code",
   "execution_count": 98,
   "metadata": {},
   "outputs": [
    {
     "data": {
      "text/plain": [
       "<bound method DataFrame.to_dict of           id                            original_title  \\\n",
       "0      19995                                    Avatar   \n",
       "1        285  Pirates of the Caribbean: At World's End   \n",
       "2     206647                                   Spectre   \n",
       "3      49026                     The Dark Knight Rises   \n",
       "4      49529                               John Carter   \n",
       "...      ...                                       ...   \n",
       "4804    9367                               El Mariachi   \n",
       "4805   72766                                 Newlyweds   \n",
       "4806  231617                 Signed, Sealed, Delivered   \n",
       "4807  126186                          Shanghai Calling   \n",
       "4808   25975                         My Date with Drew   \n",
       "\n",
       "                                                   tags  \n",
       "0     in the 22nd century, a parapleg marin is dispa...  \n",
       "1     captain barbossa, long believ to be dead, ha c...  \n",
       "2     a cryptic messag from bond’ past send him on a...  \n",
       "3     follow the death of district attorney harvey d...  \n",
       "4     john carter is a war-weary, former militari ca...  \n",
       "...                                                 ...  \n",
       "4804  el mariachi just want to play hi guitar and ca...  \n",
       "4805  a newlyw couple' honeymoon is upend by the arr...  \n",
       "4806  \"signed, sealed, delivered\" introduc a dedic q...  \n",
       "4807  when ambiti new york attorney sam is sent to s...  \n",
       "4808  ever sinc the second grade when he first saw h...  \n",
       "\n",
       "[4806 rows x 3 columns]>"
      ]
     },
     "execution_count": 98,
     "metadata": {},
     "output_type": "execute_result"
    }
   ],
   "source": [
    "new.to_dict"
   ]
  },
  {
   "cell_type": "code",
   "execution_count": 96,
   "metadata": {},
   "outputs": [
    {
     "data": {
      "text/html": [
       "<div>\n",
       "<style scoped>\n",
       "    .dataframe tbody tr th:only-of-type {\n",
       "        vertical-align: middle;\n",
       "    }\n",
       "\n",
       "    .dataframe tbody tr th {\n",
       "        vertical-align: top;\n",
       "    }\n",
       "\n",
       "    .dataframe thead th {\n",
       "        text-align: right;\n",
       "    }\n",
       "</style>\n",
       "<table border=\"1\" class=\"dataframe\">\n",
       "  <thead>\n",
       "    <tr style=\"text-align: right;\">\n",
       "      <th></th>\n",
       "      <th>id</th>\n",
       "      <th>original_title</th>\n",
       "      <th>tags</th>\n",
       "    </tr>\n",
       "  </thead>\n",
       "  <tbody>\n",
       "    <tr>\n",
       "      <th>0</th>\n",
       "      <td>19995</td>\n",
       "      <td>Avatar</td>\n",
       "      <td>in the 22nd century, a parapleg marin is dispa...</td>\n",
       "    </tr>\n",
       "  </tbody>\n",
       "</table>\n",
       "</div>"
      ],
      "text/plain": [
       "      id original_title                                               tags\n",
       "0  19995         Avatar  in the 22nd century, a parapleg marin is dispa..."
      ]
     },
     "execution_count": 96,
     "metadata": {},
     "output_type": "execute_result"
    }
   ],
   "source": [
    "new.head(1)"
   ]
  },
  {
   "cell_type": "code",
   "execution_count": 91,
   "metadata": {},
   "outputs": [
    {
     "name": "stdout",
     "output_type": "stream",
     "text": [
      "Collecting streamlit\n",
      "  Obtaining dependency information for streamlit from https://files.pythonhosted.org/packages/df/e2/e1c8e3abce0e819a4ef3c6a5af4ddbb1eadbca0cf2ebd5e58853edcd58bd/streamlit-1.28.1-py2.py3-none-any.whl.metadata\n",
      "  Downloading streamlit-1.28.1-py2.py3-none-any.whl.metadata (8.1 kB)\n",
      "Collecting altair<6,>=4.0 (from streamlit)\n",
      "  Obtaining dependency information for altair<6,>=4.0 from https://files.pythonhosted.org/packages/17/16/b12fca347ff9d062e3c44ad9641d2ec50364570a059f3078ada3a5119d7a/altair-5.1.2-py3-none-any.whl.metadata\n",
      "  Downloading altair-5.1.2-py3-none-any.whl.metadata (8.6 kB)\n",
      "Collecting blinker<2,>=1.0.0 (from streamlit)\n",
      "  Obtaining dependency information for blinker<2,>=1.0.0 from https://files.pythonhosted.org/packages/fa/2a/7f3714cbc6356a0efec525ce7a0613d581072ed6eb53eb7b9754f33db807/blinker-1.7.0-py3-none-any.whl.metadata\n",
      "  Downloading blinker-1.7.0-py3-none-any.whl.metadata (1.9 kB)\n",
      "Collecting cachetools<6,>=4.0 (from streamlit)\n",
      "  Obtaining dependency information for cachetools<6,>=4.0 from https://files.pythonhosted.org/packages/a2/91/2d843adb9fbd911e0da45fbf6f18ca89d07a087c3daa23e955584f90ebf4/cachetools-5.3.2-py3-none-any.whl.metadata\n",
      "  Downloading cachetools-5.3.2-py3-none-any.whl.metadata (5.2 kB)\n",
      "Requirement already satisfied: click<9,>=7.0 in c:\\users\\97798\\desktop\\all_files\\machine_learning_projects\\env\\lib\\site-packages (from streamlit) (8.1.7)\n",
      "Collecting importlib-metadata<7,>=1.4 (from streamlit)\n",
      "  Obtaining dependency information for importlib-metadata<7,>=1.4 from https://files.pythonhosted.org/packages/cc/37/db7ba97e676af155f5fcb1a35466f446eadc9104e25b83366e8088c9c926/importlib_metadata-6.8.0-py3-none-any.whl.metadata\n",
      "  Downloading importlib_metadata-6.8.0-py3-none-any.whl.metadata (5.1 kB)\n",
      "Requirement already satisfied: numpy<2,>=1.19.3 in c:\\users\\97798\\desktop\\all_files\\machine_learning_projects\\env\\lib\\site-packages (from streamlit) (1.26.0)\n",
      "Requirement already satisfied: packaging<24,>=16.8 in c:\\users\\97798\\desktop\\all_files\\machine_learning_projects\\env\\lib\\site-packages (from streamlit) (23.1)\n",
      "Requirement already satisfied: pandas<3,>=1.3.0 in c:\\users\\97798\\desktop\\all_files\\machine_learning_projects\\env\\lib\\site-packages (from streamlit) (2.0.3)\n",
      "Requirement already satisfied: pillow<11,>=7.1.0 in c:\\users\\97798\\desktop\\all_files\\machine_learning_projects\\env\\lib\\site-packages (from streamlit) (10.0.1)\n",
      "Collecting protobuf<5,>=3.20 (from streamlit)\n",
      "  Obtaining dependency information for protobuf<5,>=3.20 from https://files.pythonhosted.org/packages/72/eb/a07cc36ed9b119062886935a8371da8a977dda30b19cf57fe9162589b6f7/protobuf-4.25.0-cp310-abi3-win_amd64.whl.metadata\n",
      "  Downloading protobuf-4.25.0-cp310-abi3-win_amd64.whl.metadata (541 bytes)\n",
      "Collecting pyarrow>=6.0 (from streamlit)\n",
      "  Obtaining dependency information for pyarrow>=6.0 from https://files.pythonhosted.org/packages/80/ac/3266ac391c5b0a4da70be7a96fb63fdba7bbc5620ecc3f9e5a30262259f7/pyarrow-14.0.0-cp310-cp310-win_amd64.whl.metadata\n",
      "  Downloading pyarrow-14.0.0-cp310-cp310-win_amd64.whl.metadata (3.1 kB)\n",
      "Requirement already satisfied: python-dateutil<3,>=2.7.3 in c:\\users\\97798\\desktop\\all_files\\machine_learning_projects\\env\\lib\\site-packages (from streamlit) (2.8.2)\n",
      "Requirement already satisfied: requests<3,>=2.27 in c:\\users\\97798\\desktop\\all_files\\machine_learning_projects\\env\\lib\\site-packages (from streamlit) (2.31.0)\n",
      "Collecting rich<14,>=10.14.0 (from streamlit)\n",
      "  Obtaining dependency information for rich<14,>=10.14.0 from https://files.pythonhosted.org/packages/be/2a/4e62ff633612f746f88618852a626bbe24226eba5e7ac90e91dcfd6a414e/rich-13.6.0-py3-none-any.whl.metadata\n",
      "  Downloading rich-13.6.0-py3-none-any.whl.metadata (18 kB)\n",
      "Collecting tenacity<9,>=8.1.0 (from streamlit)\n",
      "  Obtaining dependency information for tenacity<9,>=8.1.0 from https://files.pythonhosted.org/packages/f4/f1/990741d5bb2487d529d20a433210ffa136a367751e454214013b441c4575/tenacity-8.2.3-py3-none-any.whl.metadata\n",
      "  Downloading tenacity-8.2.3-py3-none-any.whl.metadata (1.0 kB)\n",
      "Requirement already satisfied: toml<2,>=0.10.1 in c:\\users\\97798\\desktop\\all_files\\machine_learning_projects\\env\\lib\\site-packages (from streamlit) (0.10.2)\n",
      "Requirement already satisfied: typing-extensions<5,>=4.3.0 in c:\\users\\97798\\desktop\\all_files\\machine_learning_projects\\env\\lib\\site-packages (from streamlit) (4.7.1)\n",
      "Collecting tzlocal<6,>=1.1 (from streamlit)\n",
      "  Obtaining dependency information for tzlocal<6,>=1.1 from https://files.pythonhosted.org/packages/97/3f/c4c51c55ff8487f2e6d0e618dba917e3c3ee2caae6cf0fbb59c9b1876f2e/tzlocal-5.2-py3-none-any.whl.metadata\n",
      "  Downloading tzlocal-5.2-py3-none-any.whl.metadata (7.8 kB)\n",
      "Collecting validators<1,>=0.2 (from streamlit)\n",
      "  Obtaining dependency information for validators<1,>=0.2 from https://files.pythonhosted.org/packages/3a/0c/785d317eea99c3739821718f118c70537639aa43f96bfa1d83a71f68eaf6/validators-0.22.0-py3-none-any.whl.metadata\n",
      "  Downloading validators-0.22.0-py3-none-any.whl.metadata (4.7 kB)\n",
      "Collecting gitpython!=3.1.19,<4,>=3.0.7 (from streamlit)\n",
      "  Obtaining dependency information for gitpython!=3.1.19,<4,>=3.0.7 from https://files.pythonhosted.org/packages/8d/c4/82b858fb6483dfb5e338123c154d19c043305b01726a67d89532b8f8f01b/GitPython-3.1.40-py3-none-any.whl.metadata\n",
      "  Downloading GitPython-3.1.40-py3-none-any.whl.metadata (12 kB)\n",
      "Collecting pydeck<1,>=0.8.0b4 (from streamlit)\n",
      "  Downloading pydeck-0.8.1b0-py2.py3-none-any.whl (4.8 MB)\n",
      "     ---------------------------------------- 0.0/4.8 MB ? eta -:--:--\n",
      "     ---------------------------------------- 0.0/4.8 MB 660.6 kB/s eta 0:00:08\n",
      "      --------------------------------------- 0.1/4.8 MB 656.4 kB/s eta 0:00:08\n",
      "      --------------------------------------- 0.1/4.8 MB 770.8 kB/s eta 0:00:07\n",
      "      --------------------------------------- 0.1/4.8 MB 731.4 kB/s eta 0:00:07\n",
      "     - -------------------------------------- 0.1/4.8 MB 610.6 kB/s eta 0:00:08\n",
      "     - -------------------------------------- 0.2/4.8 MB 655.4 kB/s eta 0:00:08\n",
      "     - -------------------------------------- 0.2/4.8 MB 655.9 kB/s eta 0:00:08\n",
      "     -- ------------------------------------- 0.2/4.8 MB 686.6 kB/s eta 0:00:07\n",
      "     -- ------------------------------------- 0.3/4.8 MB 656.4 kB/s eta 0:00:07\n",
      "     -- ------------------------------------- 0.3/4.8 MB 655.5 kB/s eta 0:00:07\n",
      "     -- ------------------------------------- 0.3/4.8 MB 655.4 kB/s eta 0:00:07\n",
      "     --- ------------------------------------ 0.4/4.8 MB 655.2 kB/s eta 0:00:07\n",
      "     --- ------------------------------------ 0.4/4.8 MB 673.5 kB/s eta 0:00:07\n",
      "     --- ------------------------------------ 0.4/4.8 MB 672.0 kB/s eta 0:00:07\n",
      "     --- ------------------------------------ 0.5/4.8 MB 670.7 kB/s eta 0:00:07\n",
      "     ---- ----------------------------------- 0.5/4.8 MB 682.7 kB/s eta 0:00:07\n",
      "     ---- ----------------------------------- 0.6/4.8 MB 681.0 kB/s eta 0:00:07\n",
      "     ---- ----------------------------------- 0.6/4.8 MB 692.6 kB/s eta 0:00:07\n",
      "     ----- ---------------------------------- 0.6/4.8 MB 690.3 kB/s eta 0:00:07\n",
      "     ----- ---------------------------------- 0.7/4.8 MB 698.4 kB/s eta 0:00:06\n",
      "     ----- ---------------------------------- 0.7/4.8 MB 696.3 kB/s eta 0:00:06\n",
      "     ------ --------------------------------- 0.7/4.8 MB 704.2 kB/s eta 0:00:06\n",
      "     ------ --------------------------------- 0.8/4.8 MB 723.2 kB/s eta 0:00:06\n",
      "     ------ --------------------------------- 0.8/4.8 MB 728.2 kB/s eta 0:00:06\n",
      "     ------- -------------------------------- 0.9/4.8 MB 733.9 kB/s eta 0:00:06\n",
      "     ------- -------------------------------- 0.9/4.8 MB 731.4 kB/s eta 0:00:06\n",
      "     ------- -------------------------------- 0.9/4.8 MB 727.4 kB/s eta 0:00:06\n",
      "     -------- ------------------------------- 1.0/4.8 MB 741.5 kB/s eta 0:00:06\n",
      "     -------- ------------------------------- 1.0/4.8 MB 753.5 kB/s eta 0:00:05\n",
      "     -------- ------------------------------- 1.1/4.8 MB 757.4 kB/s eta 0:00:05\n",
      "     --------- ------------------------------ 1.1/4.8 MB 760.3 kB/s eta 0:00:05\n",
      "     --------- ------------------------------ 1.2/4.8 MB 770.5 kB/s eta 0:00:05\n",
      "     ---------- ----------------------------- 1.2/4.8 MB 774.5 kB/s eta 0:00:05\n",
      "     ---------- ----------------------------- 1.2/4.8 MB 778.7 kB/s eta 0:00:05\n",
      "     ---------- ----------------------------- 1.3/4.8 MB 787.7 kB/s eta 0:00:05\n",
      "     ----------- ---------------------------- 1.4/4.8 MB 801.2 kB/s eta 0:00:05\n",
      "     ----------- ---------------------------- 1.4/4.8 MB 803.1 kB/s eta 0:00:05\n",
      "     ------------ --------------------------- 1.4/4.8 MB 804.9 kB/s eta 0:00:05\n",
      "     ------------ --------------------------- 1.5/4.8 MB 817.9 kB/s eta 0:00:05\n",
      "     ------------ --------------------------- 1.6/4.8 MB 824.7 kB/s eta 0:00:04\n",
      "     ------------- -------------------------- 1.6/4.8 MB 824.7 kB/s eta 0:00:04\n",
      "     ------------- -------------------------- 1.7/4.8 MB 836.1 kB/s eta 0:00:04\n",
      "     -------------- ------------------------- 1.7/4.8 MB 836.9 kB/s eta 0:00:04\n",
      "     -------------- ------------------------- 1.8/4.8 MB 850.4 kB/s eta 0:00:04\n",
      "     --------------- ------------------------ 1.8/4.8 MB 854.5 kB/s eta 0:00:04\n",
      "     --------------- ------------------------ 1.9/4.8 MB 866.1 kB/s eta 0:00:04\n",
      "     --------------- ------------------------ 1.9/4.8 MB 864.6 kB/s eta 0:00:04\n",
      "     ---------------- ----------------------- 2.0/4.8 MB 873.8 kB/s eta 0:00:04\n",
      "     ---------------- ----------------------- 2.0/4.8 MB 878.2 kB/s eta 0:00:04\n",
      "     ----------------- ---------------------- 2.1/4.8 MB 882.8 kB/s eta 0:00:04\n",
      "     ------------------ --------------------- 2.2/4.8 MB 899.7 kB/s eta 0:00:03\n",
      "     ------------------ --------------------- 2.2/4.8 MB 893.3 kB/s eta 0:00:03\n",
      "     ------------------ --------------------- 2.3/4.8 MB 905.2 kB/s eta 0:00:03\n",
      "     ------------------- -------------------- 2.3/4.8 MB 912.6 kB/s eta 0:00:03\n",
      "     -------------------- ------------------- 2.4/4.8 MB 924.1 kB/s eta 0:00:03\n",
      "     -------------------- ------------------- 2.5/4.8 MB 930.9 kB/s eta 0:00:03\n",
      "     --------------------- ------------------ 2.5/4.8 MB 931.9 kB/s eta 0:00:03\n",
      "     --------------------- ------------------ 2.6/4.8 MB 942.1 kB/s eta 0:00:03\n",
      "     ---------------------- ----------------- 2.7/4.8 MB 951.9 kB/s eta 0:00:03\n",
      "     ---------------------- ----------------- 2.7/4.8 MB 952.7 kB/s eta 0:00:03\n",
      "     ----------------------- ---------------- 2.8/4.8 MB 960.2 kB/s eta 0:00:03\n",
      "     ----------------------- ---------------- 2.9/4.8 MB 972.7 kB/s eta 0:00:02\n",
      "     ------------------------ --------------- 2.9/4.8 MB 976.2 kB/s eta 0:00:02\n",
      "     ------------------------- -------------- 3.0/4.8 MB 988.0 kB/s eta 0:00:02\n",
      "     ------------------------- -------------- 3.1/4.8 MB 993.2 kB/s eta 0:00:02\n",
      "     -------------------------- ------------- 3.2/4.8 MB 999.3 kB/s eta 0:00:02\n",
      "     -------------------------- ------------- 3.2/4.8 MB 1.0 MB/s eta 0:00:02\n",
      "     --------------------------- ------------ 3.3/4.8 MB 1.0 MB/s eta 0:00:02\n",
      "     ---------------------------- ----------- 3.4/4.8 MB 1.0 MB/s eta 0:00:02\n",
      "     ---------------------------- ----------- 3.5/4.8 MB 1.0 MB/s eta 0:00:02\n",
      "     ----------------------------- ---------- 3.5/4.8 MB 1.0 MB/s eta 0:00:02\n",
      "     ------------------------------ --------- 3.6/4.8 MB 1.0 MB/s eta 0:00:02\n",
      "     ------------------------------ --------- 3.7/4.8 MB 1.1 MB/s eta 0:00:02\n",
      "     ------------------------------- -------- 3.8/4.8 MB 1.1 MB/s eta 0:00:01\n",
      "     -------------------------------- ------- 3.8/4.8 MB 1.1 MB/s eta 0:00:01\n",
      "     -------------------------------- ------- 3.9/4.8 MB 1.1 MB/s eta 0:00:01\n",
      "     --------------------------------- ------ 4.0/4.8 MB 1.1 MB/s eta 0:00:01\n",
      "     --------------------------------- ------ 4.0/4.8 MB 1.1 MB/s eta 0:00:01\n",
      "     ---------------------------------- ----- 4.1/4.8 MB 1.1 MB/s eta 0:00:01\n",
      "     ----------------------------------- ---- 4.2/4.8 MB 1.1 MB/s eta 0:00:01\n",
      "     ----------------------------------- ---- 4.3/4.8 MB 1.1 MB/s eta 0:00:01\n",
      "     ------------------------------------ --- 4.4/4.8 MB 1.1 MB/s eta 0:00:01\n",
      "     ------------------------------------- -- 4.5/4.8 MB 1.1 MB/s eta 0:00:01\n",
      "     ------------------------------------- -- 4.5/4.8 MB 1.1 MB/s eta 0:00:01\n",
      "     -------------------------------------- - 4.6/4.8 MB 1.1 MB/s eta 0:00:01\n",
      "     ---------------------------------------  4.7/4.8 MB 1.1 MB/s eta 0:00:01\n",
      "     ---------------------------------------  4.8/4.8 MB 1.1 MB/s eta 0:00:01\n",
      "     ---------------------------------------- 4.8/4.8 MB 1.1 MB/s eta 0:00:00\n",
      "Requirement already satisfied: tornado<7,>=6.0.3 in c:\\users\\97798\\desktop\\all_files\\machine_learning_projects\\env\\lib\\site-packages (from streamlit) (6.3.2)\n",
      "Collecting watchdog>=2.1.5 (from streamlit)\n",
      "  Downloading watchdog-3.0.0-py3-none-win_amd64.whl (82 kB)\n",
      "     ---------------------------------------- 0.0/82.0 kB ? eta -:--:--\n",
      "     ---------------------------------------  81.9/82.0 kB 2.3 MB/s eta 0:00:01\n",
      "     ---------------------------------------- 82.0/82.0 kB 1.6 MB/s eta 0:00:00\n",
      "Requirement already satisfied: jinja2 in c:\\users\\97798\\desktop\\all_files\\machine_learning_projects\\env\\lib\\site-packages (from altair<6,>=4.0->streamlit) (3.1.2)\n",
      "Requirement already satisfied: jsonschema>=3.0 in c:\\users\\97798\\desktop\\all_files\\machine_learning_projects\\env\\lib\\site-packages (from altair<6,>=4.0->streamlit) (4.17.3)\n",
      "Collecting toolz (from altair<6,>=4.0->streamlit)\n",
      "  Downloading toolz-0.12.0-py3-none-any.whl (55 kB)\n",
      "     ---------------------------------------- 0.0/55.8 kB ? eta -:--:--\n",
      "     ---------------------------------------- 55.8/55.8 kB 3.0 MB/s eta 0:00:00\n",
      "Requirement already satisfied: colorama in c:\\users\\97798\\desktop\\all_files\\machine_learning_projects\\env\\lib\\site-packages (from click<9,>=7.0->streamlit) (0.4.6)\n",
      "Collecting gitdb<5,>=4.0.1 (from gitpython!=3.1.19,<4,>=3.0.7->streamlit)\n",
      "  Obtaining dependency information for gitdb<5,>=4.0.1 from https://files.pythonhosted.org/packages/fd/5b/8f0c4a5bb9fd491c277c21eff7ccae71b47d43c4446c9d0c6cff2fe8c2c4/gitdb-4.0.11-py3-none-any.whl.metadata\n",
      "  Downloading gitdb-4.0.11-py3-none-any.whl.metadata (1.2 kB)\n",
      "Collecting zipp>=0.5 (from importlib-metadata<7,>=1.4->streamlit)\n",
      "  Obtaining dependency information for zipp>=0.5 from https://files.pythonhosted.org/packages/d9/66/48866fc6b158c81cc2bfecc04c480f105c6040e8b077bc54c634b4a67926/zipp-3.17.0-py3-none-any.whl.metadata\n",
      "  Downloading zipp-3.17.0-py3-none-any.whl.metadata (3.7 kB)\n",
      "Requirement already satisfied: pytz>=2020.1 in c:\\users\\97798\\desktop\\all_files\\machine_learning_projects\\env\\lib\\site-packages (from pandas<3,>=1.3.0->streamlit) (2023.3.post1)\n",
      "Requirement already satisfied: tzdata>=2022.1 in c:\\users\\97798\\desktop\\all_files\\machine_learning_projects\\env\\lib\\site-packages (from pandas<3,>=1.3.0->streamlit) (2023.3)\n",
      "Requirement already satisfied: six>=1.5 in c:\\users\\97798\\desktop\\all_files\\machine_learning_projects\\env\\lib\\site-packages (from python-dateutil<3,>=2.7.3->streamlit) (1.16.0)\n",
      "Requirement already satisfied: charset-normalizer<4,>=2 in c:\\users\\97798\\desktop\\all_files\\machine_learning_projects\\env\\lib\\site-packages (from requests<3,>=2.27->streamlit) (2.0.4)\n",
      "Requirement already satisfied: idna<4,>=2.5 in c:\\users\\97798\\desktop\\all_files\\machine_learning_projects\\env\\lib\\site-packages (from requests<3,>=2.27->streamlit) (3.4)\n",
      "Requirement already satisfied: urllib3<3,>=1.21.1 in c:\\users\\97798\\desktop\\all_files\\machine_learning_projects\\env\\lib\\site-packages (from requests<3,>=2.27->streamlit) (1.26.16)\n",
      "Requirement already satisfied: certifi>=2017.4.17 in c:\\users\\97798\\desktop\\all_files\\machine_learning_projects\\env\\lib\\site-packages (from requests<3,>=2.27->streamlit) (2023.7.22)\n",
      "Collecting markdown-it-py>=2.2.0 (from rich<14,>=10.14.0->streamlit)\n",
      "  Obtaining dependency information for markdown-it-py>=2.2.0 from https://files.pythonhosted.org/packages/42/d7/1ec15b46af6af88f19b8e5ffea08fa375d433c998b8a7639e76935c14f1f/markdown_it_py-3.0.0-py3-none-any.whl.metadata\n",
      "  Downloading markdown_it_py-3.0.0-py3-none-any.whl.metadata (6.9 kB)\n",
      "Requirement already satisfied: pygments<3.0.0,>=2.13.0 in c:\\users\\97798\\desktop\\all_files\\machine_learning_projects\\env\\lib\\site-packages (from rich<14,>=10.14.0->streamlit) (2.15.1)\n",
      "Collecting smmap<6,>=3.0.1 (from gitdb<5,>=4.0.1->gitpython!=3.1.19,<4,>=3.0.7->streamlit)\n",
      "  Obtaining dependency information for smmap<6,>=3.0.1 from https://files.pythonhosted.org/packages/a7/a5/10f97f73544edcdef54409f1d839f6049a0d79df68adbc1ceb24d1aaca42/smmap-5.0.1-py3-none-any.whl.metadata\n",
      "  Downloading smmap-5.0.1-py3-none-any.whl.metadata (4.3 kB)\n",
      "Requirement already satisfied: MarkupSafe>=2.0 in c:\\users\\97798\\desktop\\all_files\\machine_learning_projects\\env\\lib\\site-packages (from jinja2->altair<6,>=4.0->streamlit) (2.1.1)\n",
      "Requirement already satisfied: attrs>=17.4.0 in c:\\users\\97798\\desktop\\all_files\\machine_learning_projects\\env\\lib\\site-packages (from jsonschema>=3.0->altair<6,>=4.0->streamlit) (23.1.0)\n",
      "Requirement already satisfied: pyrsistent!=0.17.0,!=0.17.1,!=0.17.2,>=0.14.0 in c:\\users\\97798\\desktop\\all_files\\machine_learning_projects\\env\\lib\\site-packages (from jsonschema>=3.0->altair<6,>=4.0->streamlit) (0.18.0)\n",
      "Collecting mdurl~=0.1 (from markdown-it-py>=2.2.0->rich<14,>=10.14.0->streamlit)\n",
      "  Downloading mdurl-0.1.2-py3-none-any.whl (10.0 kB)\n",
      "Downloading streamlit-1.28.1-py2.py3-none-any.whl (8.4 MB)\n",
      "   ---------------------------------------- 0.0/8.4 MB ? eta -:--:--\n",
      "   ---------------------------------------- 0.1/8.4 MB 2.0 MB/s eta 0:00:05\n",
      "    --------------------------------------- 0.2/8.4 MB 1.7 MB/s eta 0:00:05\n",
      "   - -------------------------------------- 0.3/8.4 MB 1.8 MB/s eta 0:00:05\n",
      "   - -------------------------------------- 0.4/8.4 MB 1.9 MB/s eta 0:00:05\n",
      "   -- ------------------------------------- 0.5/8.4 MB 1.8 MB/s eta 0:00:05\n",
      "   -- ------------------------------------- 0.6/8.4 MB 1.9 MB/s eta 0:00:05\n",
      "   --- ------------------------------------ 0.7/8.4 MB 1.8 MB/s eta 0:00:05\n",
      "   --- ------------------------------------ 0.7/8.4 MB 1.8 MB/s eta 0:00:05\n",
      "   --- ------------------------------------ 0.8/8.4 MB 1.9 MB/s eta 0:00:05\n",
      "   ---- ----------------------------------- 0.9/8.4 MB 1.9 MB/s eta 0:00:05\n",
      "   ---- ----------------------------------- 1.0/8.4 MB 1.9 MB/s eta 0:00:04\n",
      "   ----- ---------------------------------- 1.1/8.4 MB 1.8 MB/s eta 0:00:04\n",
      "   ----- ---------------------------------- 1.2/8.4 MB 1.9 MB/s eta 0:00:04\n",
      "   ----- ---------------------------------- 1.2/8.4 MB 1.8 MB/s eta 0:00:04\n",
      "   ------ --------------------------------- 1.3/8.4 MB 1.9 MB/s eta 0:00:04\n",
      "   ------ --------------------------------- 1.4/8.4 MB 1.9 MB/s eta 0:00:04\n",
      "   ------- -------------------------------- 1.5/8.4 MB 1.9 MB/s eta 0:00:04\n",
      "   ------- -------------------------------- 1.6/8.4 MB 1.9 MB/s eta 0:00:04\n",
      "   ------- -------------------------------- 1.7/8.4 MB 1.9 MB/s eta 0:00:04\n",
      "   -------- ------------------------------- 1.8/8.4 MB 1.9 MB/s eta 0:00:04\n",
      "   -------- ------------------------------- 1.9/8.4 MB 1.9 MB/s eta 0:00:04\n",
      "   --------- ------------------------------ 2.0/8.4 MB 1.9 MB/s eta 0:00:04\n",
      "   --------- ------------------------------ 2.1/8.4 MB 1.9 MB/s eta 0:00:04\n",
      "   ---------- ----------------------------- 2.2/8.4 MB 1.9 MB/s eta 0:00:04\n",
      "   ---------- ----------------------------- 2.3/8.4 MB 1.9 MB/s eta 0:00:04\n",
      "   ----------- ---------------------------- 2.3/8.4 MB 1.9 MB/s eta 0:00:04\n",
      "   ----------- ---------------------------- 2.5/8.4 MB 1.9 MB/s eta 0:00:04\n",
      "   ------------ --------------------------- 2.5/8.4 MB 2.0 MB/s eta 0:00:04\n",
      "   ------------ --------------------------- 2.6/8.4 MB 1.9 MB/s eta 0:00:03\n",
      "   ------------- -------------------------- 2.7/8.4 MB 2.0 MB/s eta 0:00:03\n",
      "   ------------- -------------------------- 2.8/8.4 MB 2.0 MB/s eta 0:00:03\n",
      "   ------------- -------------------------- 2.9/8.4 MB 2.0 MB/s eta 0:00:03\n",
      "   -------------- ------------------------- 3.0/8.4 MB 2.0 MB/s eta 0:00:03\n",
      "   -------------- ------------------------- 3.1/8.4 MB 2.0 MB/s eta 0:00:03\n",
      "   --------------- ------------------------ 3.2/8.4 MB 2.0 MB/s eta 0:00:03\n",
      "   --------------- ------------------------ 3.3/8.4 MB 2.0 MB/s eta 0:00:03\n",
      "   ---------------- ----------------------- 3.4/8.4 MB 2.0 MB/s eta 0:00:03\n",
      "   ---------------- ----------------------- 3.5/8.4 MB 2.0 MB/s eta 0:00:03\n",
      "   ----------------- ---------------------- 3.6/8.4 MB 2.0 MB/s eta 0:00:03\n",
      "   ----------------- ---------------------- 3.8/8.4 MB 2.0 MB/s eta 0:00:03\n",
      "   ------------------ --------------------- 3.9/8.4 MB 2.0 MB/s eta 0:00:03\n",
      "   ------------------ --------------------- 4.0/8.4 MB 2.0 MB/s eta 0:00:03\n",
      "   ------------------- -------------------- 4.1/8.4 MB 2.0 MB/s eta 0:00:03\n",
      "   -------------------- ------------------- 4.2/8.4 MB 2.1 MB/s eta 0:00:03\n",
      "   -------------------- ------------------- 4.3/8.4 MB 2.0 MB/s eta 0:00:02\n",
      "   -------------------- ------------------- 4.4/8.4 MB 2.1 MB/s eta 0:00:02\n",
      "   --------------------- ------------------ 4.5/8.4 MB 2.1 MB/s eta 0:00:02\n",
      "   --------------------- ------------------ 4.6/8.4 MB 2.1 MB/s eta 0:00:02\n",
      "   ---------------------- ----------------- 4.7/8.4 MB 2.1 MB/s eta 0:00:02\n",
      "   ---------------------- ----------------- 4.8/8.4 MB 2.1 MB/s eta 0:00:02\n",
      "   ----------------------- ---------------- 5.0/8.4 MB 2.1 MB/s eta 0:00:02\n",
      "   ------------------------ --------------- 5.1/8.4 MB 2.1 MB/s eta 0:00:02\n",
      "   ------------------------ --------------- 5.2/8.4 MB 2.1 MB/s eta 0:00:02\n",
      "   ------------------------- -------------- 5.3/8.4 MB 2.1 MB/s eta 0:00:02\n",
      "   ------------------------- -------------- 5.4/8.4 MB 2.1 MB/s eta 0:00:02\n",
      "   -------------------------- ------------- 5.6/8.4 MB 2.1 MB/s eta 0:00:02\n",
      "   -------------------------- ------------- 5.7/8.4 MB 2.1 MB/s eta 0:00:02\n",
      "   --------------------------- ------------ 5.8/8.4 MB 2.1 MB/s eta 0:00:02\n",
      "   ---------------------------- ----------- 5.9/8.4 MB 2.1 MB/s eta 0:00:02\n",
      "   ---------------------------- ----------- 6.0/8.4 MB 2.1 MB/s eta 0:00:02\n",
      "   ----------------------------- ---------- 6.2/8.4 MB 2.2 MB/s eta 0:00:02\n",
      "   ----------------------------- ---------- 6.2/8.4 MB 2.2 MB/s eta 0:00:02\n",
      "   ------------------------------ --------- 6.4/8.4 MB 2.2 MB/s eta 0:00:01\n",
      "   ------------------------------ --------- 6.5/8.4 MB 2.2 MB/s eta 0:00:01\n",
      "   ------------------------------- -------- 6.6/8.4 MB 2.2 MB/s eta 0:00:01\n",
      "   -------------------------------- ------- 6.8/8.4 MB 2.2 MB/s eta 0:00:01\n",
      "   -------------------------------- ------- 6.9/8.4 MB 2.2 MB/s eta 0:00:01\n",
      "   --------------------------------- ------ 7.0/8.4 MB 2.2 MB/s eta 0:00:01\n",
      "   --------------------------------- ------ 7.1/8.4 MB 2.2 MB/s eta 0:00:01\n",
      "   ---------------------------------- ----- 7.2/8.4 MB 2.2 MB/s eta 0:00:01\n",
      "   ---------------------------------- ----- 7.4/8.4 MB 2.2 MB/s eta 0:00:01\n",
      "   ----------------------------------- ---- 7.5/8.4 MB 2.2 MB/s eta 0:00:01\n",
      "   ------------------------------------ --- 7.6/8.4 MB 2.2 MB/s eta 0:00:01\n",
      "   ------------------------------------ --- 7.7/8.4 MB 2.2 MB/s eta 0:00:01\n",
      "   ------------------------------------- -- 7.9/8.4 MB 2.2 MB/s eta 0:00:01\n",
      "   -------------------------------------- - 8.0/8.4 MB 2.3 MB/s eta 0:00:01\n",
      "   -------------------------------------- - 8.1/8.4 MB 2.3 MB/s eta 0:00:01\n",
      "   ---------------------------------------  8.2/8.4 MB 2.3 MB/s eta 0:00:01\n",
      "   ---------------------------------------  8.4/8.4 MB 2.3 MB/s eta 0:00:01\n",
      "   ---------------------------------------  8.4/8.4 MB 2.3 MB/s eta 0:00:01\n",
      "   ---------------------------------------- 8.4/8.4 MB 2.2 MB/s eta 0:00:00\n",
      "Downloading altair-5.1.2-py3-none-any.whl (516 kB)\n",
      "   ---------------------------------------- 0.0/516.2 kB ? eta -:--:--\n",
      "   ----------- ---------------------------- 143.4/516.2 kB 2.8 MB/s eta 0:00:01\n",
      "   ----------------------- ---------------- 307.2/516.2 kB 3.2 MB/s eta 0:00:01\n",
      "   ---------------------------------- ----- 450.6/516.2 kB 3.1 MB/s eta 0:00:01\n",
      "   ---------------------------------------- 516.2/516.2 kB 2.7 MB/s eta 0:00:00\n",
      "Downloading blinker-1.7.0-py3-none-any.whl (13 kB)\n",
      "Downloading cachetools-5.3.2-py3-none-any.whl (9.3 kB)\n",
      "Downloading GitPython-3.1.40-py3-none-any.whl (190 kB)\n",
      "   ---------------------------------------- 0.0/190.6 kB ? eta -:--:--\n",
      "   ---------------------------------------- 190.6/190.6 kB 5.8 MB/s eta 0:00:00\n",
      "Downloading importlib_metadata-6.8.0-py3-none-any.whl (22 kB)\n",
      "Downloading protobuf-4.25.0-cp310-abi3-win_amd64.whl (413 kB)\n",
      "   ---------------------------------------- 0.0/413.2 kB ? eta -:--:--\n",
      "   ------------- -------------------------- 143.4/413.2 kB 8.3 MB/s eta 0:00:01\n",
      "   ---------------------------- ----------- 297.0/413.2 kB 3.7 MB/s eta 0:00:01\n",
      "   ---------------------------------------- 413.2/413.2 kB 3.2 MB/s eta 0:00:00\n",
      "Downloading pyarrow-14.0.0-cp310-cp310-win_amd64.whl (24.6 MB)\n",
      "   ---------------------------------------- 0.0/24.6 MB ? eta -:--:--\n",
      "   ---------------------------------------- 0.2/24.6 MB 5.0 MB/s eta 0:00:05\n",
      "    --------------------------------------- 0.3/24.6 MB 3.8 MB/s eta 0:00:07\n",
      "    --------------------------------------- 0.4/24.6 MB 3.9 MB/s eta 0:00:07\n",
      "    --------------------------------------- 0.6/24.6 MB 3.7 MB/s eta 0:00:07\n",
      "   - -------------------------------------- 0.7/24.6 MB 3.5 MB/s eta 0:00:07\n",
      "   - -------------------------------------- 0.9/24.6 MB 3.3 MB/s eta 0:00:08\n",
      "   - -------------------------------------- 1.0/24.6 MB 3.2 MB/s eta 0:00:08\n",
      "   - -------------------------------------- 1.2/24.6 MB 3.2 MB/s eta 0:00:08\n",
      "   -- ------------------------------------- 1.3/24.6 MB 3.2 MB/s eta 0:00:08\n",
      "   -- ------------------------------------- 1.5/24.6 MB 3.2 MB/s eta 0:00:08\n",
      "   -- ------------------------------------- 1.8/24.6 MB 3.2 MB/s eta 0:00:08\n",
      "   --- ------------------------------------ 1.9/24.6 MB 3.2 MB/s eta 0:00:08\n",
      "   --- ------------------------------------ 2.1/24.6 MB 3.2 MB/s eta 0:00:07\n",
      "   --- ------------------------------------ 2.2/24.6 MB 3.2 MB/s eta 0:00:07\n",
      "   --- ------------------------------------ 2.4/24.6 MB 3.3 MB/s eta 0:00:07\n",
      "   ---- ----------------------------------- 2.5/24.6 MB 3.2 MB/s eta 0:00:07\n",
      "   ---- ----------------------------------- 2.7/24.6 MB 3.3 MB/s eta 0:00:07\n",
      "   ---- ----------------------------------- 2.9/24.6 MB 3.3 MB/s eta 0:00:07\n",
      "   ---- ----------------------------------- 3.0/24.6 MB 3.3 MB/s eta 0:00:07\n",
      "   ----- ---------------------------------- 3.2/24.6 MB 3.3 MB/s eta 0:00:07\n",
      "   ----- ---------------------------------- 3.3/24.6 MB 3.3 MB/s eta 0:00:07\n",
      "   ----- ---------------------------------- 3.5/24.6 MB 3.4 MB/s eta 0:00:07\n",
      "   ------ --------------------------------- 3.7/24.6 MB 3.4 MB/s eta 0:00:07\n",
      "   ------ --------------------------------- 3.9/24.6 MB 3.4 MB/s eta 0:00:06\n",
      "   ------ --------------------------------- 4.1/24.6 MB 3.4 MB/s eta 0:00:06\n",
      "   ------ --------------------------------- 4.3/24.6 MB 3.5 MB/s eta 0:00:06\n",
      "   ------- -------------------------------- 4.5/24.6 MB 3.5 MB/s eta 0:00:06\n",
      "   ------- -------------------------------- 4.6/24.6 MB 3.5 MB/s eta 0:00:06\n",
      "   ------- -------------------------------- 4.8/24.6 MB 3.6 MB/s eta 0:00:06\n",
      "   -------- ------------------------------- 5.0/24.6 MB 3.6 MB/s eta 0:00:06\n",
      "   -------- ------------------------------- 5.2/24.6 MB 3.6 MB/s eta 0:00:06\n",
      "   -------- ------------------------------- 5.4/24.6 MB 3.7 MB/s eta 0:00:06\n",
      "   --------- ------------------------------ 5.7/24.6 MB 3.7 MB/s eta 0:00:06\n",
      "   --------- ------------------------------ 5.9/24.6 MB 3.7 MB/s eta 0:00:06\n",
      "   --------- ------------------------------ 6.1/24.6 MB 3.7 MB/s eta 0:00:05\n",
      "   ---------- ----------------------------- 6.3/24.6 MB 3.8 MB/s eta 0:00:05\n",
      "   ---------- ----------------------------- 6.5/24.6 MB 3.8 MB/s eta 0:00:05\n",
      "   ---------- ----------------------------- 6.7/24.6 MB 3.8 MB/s eta 0:00:05\n",
      "   ----------- ---------------------------- 7.0/24.6 MB 3.9 MB/s eta 0:00:05\n",
      "   ----------- ---------------------------- 7.2/24.6 MB 3.9 MB/s eta 0:00:05\n",
      "   ------------ --------------------------- 7.4/24.6 MB 3.9 MB/s eta 0:00:05\n",
      "   ------------ --------------------------- 7.7/24.6 MB 3.9 MB/s eta 0:00:05\n",
      "   ------------- -------------------------- 8.0/24.6 MB 4.0 MB/s eta 0:00:05\n",
      "   ------------- -------------------------- 8.2/24.6 MB 4.0 MB/s eta 0:00:05\n",
      "   ------------- -------------------------- 8.5/24.6 MB 4.1 MB/s eta 0:00:04\n",
      "   -------------- ------------------------- 8.8/24.6 MB 4.1 MB/s eta 0:00:04\n",
      "   -------------- ------------------------- 9.1/24.6 MB 4.1 MB/s eta 0:00:04\n",
      "   --------------- ------------------------ 9.3/24.6 MB 4.2 MB/s eta 0:00:04\n",
      "   --------------- ------------------------ 9.5/24.6 MB 4.2 MB/s eta 0:00:04\n",
      "   --------------- ------------------------ 9.8/24.6 MB 4.2 MB/s eta 0:00:04\n",
      "   ---------------- ----------------------- 10.1/24.6 MB 4.3 MB/s eta 0:00:04\n",
      "   ---------------- ----------------------- 10.4/24.6 MB 4.3 MB/s eta 0:00:04\n",
      "   ----------------- ---------------------- 10.7/24.6 MB 4.4 MB/s eta 0:00:04\n",
      "   ----------------- ---------------------- 11.0/24.6 MB 4.5 MB/s eta 0:00:03\n",
      "   ------------------ --------------------- 11.3/24.6 MB 4.7 MB/s eta 0:00:03\n",
      "   ------------------ --------------------- 11.6/24.6 MB 4.7 MB/s eta 0:00:03\n",
      "   ------------------- -------------------- 11.9/24.6 MB 4.8 MB/s eta 0:00:03\n",
      "   ------------------- -------------------- 12.2/24.6 MB 5.0 MB/s eta 0:00:03\n",
      "   -------------------- ------------------- 12.4/24.6 MB 5.0 MB/s eta 0:00:03\n",
      "   -------------------- ------------------- 12.7/24.6 MB 5.2 MB/s eta 0:00:03\n",
      "   --------------------- ------------------ 13.1/24.6 MB 5.3 MB/s eta 0:00:03\n",
      "   --------------------- ------------------ 13.4/24.6 MB 5.5 MB/s eta 0:00:03\n",
      "   ---------------------- ----------------- 13.8/24.6 MB 5.5 MB/s eta 0:00:02\n",
      "   ----------------------- ---------------- 14.2/24.6 MB 5.7 MB/s eta 0:00:02\n",
      "   ----------------------- ---------------- 14.6/24.6 MB 5.8 MB/s eta 0:00:02\n",
      "   ------------------------ --------------- 14.9/24.6 MB 5.9 MB/s eta 0:00:02\n",
      "   ------------------------ --------------- 15.3/24.6 MB 6.0 MB/s eta 0:00:02\n",
      "   ------------------------- -------------- 15.6/24.6 MB 6.1 MB/s eta 0:00:02\n",
      "   -------------------------- ------------- 16.0/24.6 MB 6.4 MB/s eta 0:00:02\n",
      "   -------------------------- ------------- 16.4/24.6 MB 6.4 MB/s eta 0:00:02\n",
      "   --------------------------- ------------ 16.8/24.6 MB 6.5 MB/s eta 0:00:02\n",
      "   --------------------------- ------------ 17.2/24.6 MB 6.6 MB/s eta 0:00:02\n",
      "   ---------------------------- ----------- 17.6/24.6 MB 6.8 MB/s eta 0:00:02\n",
      "   ----------------------------- ---------- 18.0/24.6 MB 6.9 MB/s eta 0:00:01\n",
      "   ----------------------------- ---------- 18.4/24.6 MB 7.0 MB/s eta 0:00:01\n",
      "   ------------------------------ --------- 18.8/24.6 MB 7.2 MB/s eta 0:00:01\n",
      "   ------------------------------- -------- 19.2/24.6 MB 7.3 MB/s eta 0:00:01\n",
      "   ------------------------------- -------- 19.6/24.6 MB 7.4 MB/s eta 0:00:01\n",
      "   -------------------------------- ------- 19.9/24.6 MB 7.5 MB/s eta 0:00:01\n",
      "   --------------------------------- ------ 20.4/24.6 MB 7.6 MB/s eta 0:00:01\n",
      "   ---------------------------------- ----- 20.9/24.6 MB 7.8 MB/s eta 0:00:01\n",
      "   ---------------------------------- ----- 21.4/24.6 MB 8.0 MB/s eta 0:00:01\n",
      "   ----------------------------------- ---- 21.8/24.6 MB 8.0 MB/s eta 0:00:01\n",
      "   ------------------------------------ --- 22.3/24.6 MB 8.2 MB/s eta 0:00:01\n",
      "   ------------------------------------ --- 22.7/24.6 MB 8.5 MB/s eta 0:00:01\n",
      "   ------------------------------------- -- 23.2/24.6 MB 8.6 MB/s eta 0:00:01\n",
      "   -------------------------------------- - 23.7/24.6 MB 8.7 MB/s eta 0:00:01\n",
      "   ---------------------------------------  24.3/24.6 MB 8.8 MB/s eta 0:00:01\n",
      "   ---------------------------------------  24.6/24.6 MB 9.0 MB/s eta 0:00:01\n",
      "   ---------------------------------------  24.6/24.6 MB 9.0 MB/s eta 0:00:01\n",
      "   ---------------------------------------  24.6/24.6 MB 9.0 MB/s eta 0:00:01\n",
      "   ---------------------------------------- 24.6/24.6 MB 8.1 MB/s eta 0:00:00\n",
      "Downloading rich-13.6.0-py3-none-any.whl (239 kB)\n",
      "   ---------------------------------------- 0.0/239.8 kB ? eta -:--:--\n",
      "   --------------------------------------- 239.8/239.8 kB 14.3 MB/s eta 0:00:00\n",
      "Downloading tenacity-8.2.3-py3-none-any.whl (24 kB)\n",
      "Downloading tzlocal-5.2-py3-none-any.whl (17 kB)\n",
      "Downloading validators-0.22.0-py3-none-any.whl (26 kB)\n",
      "Downloading gitdb-4.0.11-py3-none-any.whl (62 kB)\n",
      "   ---------------------------------------- 0.0/62.7 kB ? eta -:--:--\n",
      "   ---------------------------------------- 62.7/62.7 kB ? eta 0:00:00\n",
      "Downloading markdown_it_py-3.0.0-py3-none-any.whl (87 kB)\n",
      "   ---------------------------------------- 0.0/87.5 kB ? eta -:--:--\n",
      "   ---------------------------------------- 87.5/87.5 kB 5.2 MB/s eta 0:00:00\n",
      "Downloading zipp-3.17.0-py3-none-any.whl (7.4 kB)\n",
      "Downloading smmap-5.0.1-py3-none-any.whl (24 kB)\n",
      "Installing collected packages: zipp, watchdog, validators, tzlocal, toolz, tenacity, smmap, pyarrow, protobuf, mdurl, cachetools, blinker, pydeck, markdown-it-py, importlib-metadata, gitdb, rich, gitpython, altair, streamlit\n",
      "Successfully installed altair-5.1.2 blinker-1.7.0 cachetools-5.3.2 gitdb-4.0.11 gitpython-3.1.40 importlib-metadata-6.8.0 markdown-it-py-3.0.0 mdurl-0.1.2 protobuf-4.25.0 pyarrow-14.0.0 pydeck-0.8.1b0 rich-13.6.0 smmap-5.0.1 streamlit-1.28.1 tenacity-8.2.3 toolz-0.12.0 tzlocal-5.2 validators-0.22.0 watchdog-3.0.0 zipp-3.17.0\n"
     ]
    }
   ],
   "source": [
    "!pip install streamlit"
   ]
  },
  {
   "cell_type": "code",
   "execution_count": null,
   "metadata": {},
   "outputs": [],
   "source": []
  }
 ],
 "metadata": {
  "kernelspec": {
   "display_name": "Python 3 (ipykernel)",
   "language": "python",
   "name": "python3"
  },
  "language_info": {
   "codemirror_mode": {
    "name": "ipython",
    "version": 3
   },
   "file_extension": ".py",
   "mimetype": "text/x-python",
   "name": "python",
   "nbconvert_exporter": "python",
   "pygments_lexer": "ipython3",
   "version": "3.10.13"
  }
 },
 "nbformat": 4,
 "nbformat_minor": 4
}
